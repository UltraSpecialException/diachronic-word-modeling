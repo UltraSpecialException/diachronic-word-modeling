{
  "nbformat": 4,
  "nbformat_minor": 0,
  "metadata": {
    "colab": {
      "name": "Lexical_Semantic_Change.ipynb",
      "provenance": []
    },
    "kernelspec": {
      "name": "python3",
      "display_name": "Python 3"
    },
    "accelerator": "GPU",
    "widgets": {
      "application/vnd.jupyter.widget-state+json": {
        "8161d33c53284fe0838737a3ee32b510": {
          "model_module": "@jupyter-widgets/controls",
          "model_name": "HBoxModel",
          "state": {
            "_view_name": "HBoxView",
            "_dom_classes": [],
            "_model_name": "HBoxModel",
            "_view_module": "@jupyter-widgets/controls",
            "_model_module_version": "1.5.0",
            "_view_count": null,
            "_view_module_version": "1.5.0",
            "box_style": "",
            "layout": "IPY_MODEL_2ac1e73594814467b4d04b2733f7a296",
            "_model_module": "@jupyter-widgets/controls",
            "children": [
              "IPY_MODEL_3f4b6ef5708542748b34bdb66ae4b747",
              "IPY_MODEL_7364c4ecae394264bd4deb25b9c81b4b"
            ]
          }
        },
        "2ac1e73594814467b4d04b2733f7a296": {
          "model_module": "@jupyter-widgets/base",
          "model_name": "LayoutModel",
          "state": {
            "_view_name": "LayoutView",
            "grid_template_rows": null,
            "right": null,
            "justify_content": null,
            "_view_module": "@jupyter-widgets/base",
            "overflow": null,
            "_model_module_version": "1.2.0",
            "_view_count": null,
            "flex_flow": null,
            "width": null,
            "min_width": null,
            "border": null,
            "align_items": null,
            "bottom": null,
            "_model_module": "@jupyter-widgets/base",
            "top": null,
            "grid_column": null,
            "overflow_y": null,
            "overflow_x": null,
            "grid_auto_flow": null,
            "grid_area": null,
            "grid_template_columns": null,
            "flex": null,
            "_model_name": "LayoutModel",
            "justify_items": null,
            "grid_row": null,
            "max_height": null,
            "align_content": null,
            "visibility": null,
            "align_self": null,
            "height": null,
            "min_height": null,
            "padding": null,
            "grid_auto_rows": null,
            "grid_gap": null,
            "max_width": null,
            "order": null,
            "_view_module_version": "1.2.0",
            "grid_template_areas": null,
            "object_position": null,
            "object_fit": null,
            "grid_auto_columns": null,
            "margin": null,
            "display": null,
            "left": null
          }
        },
        "3f4b6ef5708542748b34bdb66ae4b747": {
          "model_module": "@jupyter-widgets/controls",
          "model_name": "IntProgressModel",
          "state": {
            "_view_name": "ProgressView",
            "style": "IPY_MODEL_8b05d1b0242d4d9082536a0e9eee08bb",
            "_dom_classes": [],
            "description": "Downloading: 100%",
            "_model_name": "IntProgressModel",
            "bar_style": "success",
            "max": 231508,
            "_view_module": "@jupyter-widgets/controls",
            "_model_module_version": "1.5.0",
            "value": 231508,
            "_view_count": null,
            "_view_module_version": "1.5.0",
            "orientation": "horizontal",
            "min": 0,
            "description_tooltip": null,
            "_model_module": "@jupyter-widgets/controls",
            "layout": "IPY_MODEL_875f0f1642f34ead8644dea8758eb081"
          }
        },
        "7364c4ecae394264bd4deb25b9c81b4b": {
          "model_module": "@jupyter-widgets/controls",
          "model_name": "HTMLModel",
          "state": {
            "_view_name": "HTMLView",
            "style": "IPY_MODEL_418b0de2725d453881e5afbae631877a",
            "_dom_classes": [],
            "description": "",
            "_model_name": "HTMLModel",
            "placeholder": "​",
            "_view_module": "@jupyter-widgets/controls",
            "_model_module_version": "1.5.0",
            "value": " 232k/232k [13:13&lt;00:00, 292B/s]",
            "_view_count": null,
            "_view_module_version": "1.5.0",
            "description_tooltip": null,
            "_model_module": "@jupyter-widgets/controls",
            "layout": "IPY_MODEL_2cf33fb7b62d4d608ed0f1723ff39dda"
          }
        },
        "8b05d1b0242d4d9082536a0e9eee08bb": {
          "model_module": "@jupyter-widgets/controls",
          "model_name": "ProgressStyleModel",
          "state": {
            "_view_name": "StyleView",
            "_model_name": "ProgressStyleModel",
            "description_width": "initial",
            "_view_module": "@jupyter-widgets/base",
            "_model_module_version": "1.5.0",
            "_view_count": null,
            "_view_module_version": "1.2.0",
            "bar_color": null,
            "_model_module": "@jupyter-widgets/controls"
          }
        },
        "875f0f1642f34ead8644dea8758eb081": {
          "model_module": "@jupyter-widgets/base",
          "model_name": "LayoutModel",
          "state": {
            "_view_name": "LayoutView",
            "grid_template_rows": null,
            "right": null,
            "justify_content": null,
            "_view_module": "@jupyter-widgets/base",
            "overflow": null,
            "_model_module_version": "1.2.0",
            "_view_count": null,
            "flex_flow": null,
            "width": null,
            "min_width": null,
            "border": null,
            "align_items": null,
            "bottom": null,
            "_model_module": "@jupyter-widgets/base",
            "top": null,
            "grid_column": null,
            "overflow_y": null,
            "overflow_x": null,
            "grid_auto_flow": null,
            "grid_area": null,
            "grid_template_columns": null,
            "flex": null,
            "_model_name": "LayoutModel",
            "justify_items": null,
            "grid_row": null,
            "max_height": null,
            "align_content": null,
            "visibility": null,
            "align_self": null,
            "height": null,
            "min_height": null,
            "padding": null,
            "grid_auto_rows": null,
            "grid_gap": null,
            "max_width": null,
            "order": null,
            "_view_module_version": "1.2.0",
            "grid_template_areas": null,
            "object_position": null,
            "object_fit": null,
            "grid_auto_columns": null,
            "margin": null,
            "display": null,
            "left": null
          }
        },
        "418b0de2725d453881e5afbae631877a": {
          "model_module": "@jupyter-widgets/controls",
          "model_name": "DescriptionStyleModel",
          "state": {
            "_view_name": "StyleView",
            "_model_name": "DescriptionStyleModel",
            "description_width": "",
            "_view_module": "@jupyter-widgets/base",
            "_model_module_version": "1.5.0",
            "_view_count": null,
            "_view_module_version": "1.2.0",
            "_model_module": "@jupyter-widgets/controls"
          }
        },
        "2cf33fb7b62d4d608ed0f1723ff39dda": {
          "model_module": "@jupyter-widgets/base",
          "model_name": "LayoutModel",
          "state": {
            "_view_name": "LayoutView",
            "grid_template_rows": null,
            "right": null,
            "justify_content": null,
            "_view_module": "@jupyter-widgets/base",
            "overflow": null,
            "_model_module_version": "1.2.0",
            "_view_count": null,
            "flex_flow": null,
            "width": null,
            "min_width": null,
            "border": null,
            "align_items": null,
            "bottom": null,
            "_model_module": "@jupyter-widgets/base",
            "top": null,
            "grid_column": null,
            "overflow_y": null,
            "overflow_x": null,
            "grid_auto_flow": null,
            "grid_area": null,
            "grid_template_columns": null,
            "flex": null,
            "_model_name": "LayoutModel",
            "justify_items": null,
            "grid_row": null,
            "max_height": null,
            "align_content": null,
            "visibility": null,
            "align_self": null,
            "height": null,
            "min_height": null,
            "padding": null,
            "grid_auto_rows": null,
            "grid_gap": null,
            "max_width": null,
            "order": null,
            "_view_module_version": "1.2.0",
            "grid_template_areas": null,
            "object_position": null,
            "object_fit": null,
            "grid_auto_columns": null,
            "margin": null,
            "display": null,
            "left": null
          }
        },
        "3463283306964d5eba3d4d48b21051cc": {
          "model_module": "@jupyter-widgets/controls",
          "model_name": "HBoxModel",
          "state": {
            "_view_name": "HBoxView",
            "_dom_classes": [],
            "_model_name": "HBoxModel",
            "_view_module": "@jupyter-widgets/controls",
            "_model_module_version": "1.5.0",
            "_view_count": null,
            "_view_module_version": "1.5.0",
            "box_style": "",
            "layout": "IPY_MODEL_01c5b28e9ddc4b9faefe29ef3b71eef6",
            "_model_module": "@jupyter-widgets/controls",
            "children": [
              "IPY_MODEL_ceba54e24d3f451c80ac6153d7d0db0d",
              "IPY_MODEL_40a74693c1a24f63abfc6c7471a504d3"
            ]
          }
        },
        "01c5b28e9ddc4b9faefe29ef3b71eef6": {
          "model_module": "@jupyter-widgets/base",
          "model_name": "LayoutModel",
          "state": {
            "_view_name": "LayoutView",
            "grid_template_rows": null,
            "right": null,
            "justify_content": null,
            "_view_module": "@jupyter-widgets/base",
            "overflow": null,
            "_model_module_version": "1.2.0",
            "_view_count": null,
            "flex_flow": null,
            "width": null,
            "min_width": null,
            "border": null,
            "align_items": null,
            "bottom": null,
            "_model_module": "@jupyter-widgets/base",
            "top": null,
            "grid_column": null,
            "overflow_y": null,
            "overflow_x": null,
            "grid_auto_flow": null,
            "grid_area": null,
            "grid_template_columns": null,
            "flex": null,
            "_model_name": "LayoutModel",
            "justify_items": null,
            "grid_row": null,
            "max_height": null,
            "align_content": null,
            "visibility": null,
            "align_self": null,
            "height": null,
            "min_height": null,
            "padding": null,
            "grid_auto_rows": null,
            "grid_gap": null,
            "max_width": null,
            "order": null,
            "_view_module_version": "1.2.0",
            "grid_template_areas": null,
            "object_position": null,
            "object_fit": null,
            "grid_auto_columns": null,
            "margin": null,
            "display": null,
            "left": null
          }
        },
        "ceba54e24d3f451c80ac6153d7d0db0d": {
          "model_module": "@jupyter-widgets/controls",
          "model_name": "IntProgressModel",
          "state": {
            "_view_name": "ProgressView",
            "style": "IPY_MODEL_b56e601da1da49718e115eda835864b8",
            "_dom_classes": [],
            "description": "Downloading: 100%",
            "_model_name": "IntProgressModel",
            "bar_style": "success",
            "max": 546,
            "_view_module": "@jupyter-widgets/controls",
            "_model_module_version": "1.5.0",
            "value": 546,
            "_view_count": null,
            "_view_module_version": "1.5.0",
            "orientation": "horizontal",
            "min": 0,
            "description_tooltip": null,
            "_model_module": "@jupyter-widgets/controls",
            "layout": "IPY_MODEL_b52b5900212d434ab425c5d358146825"
          }
        },
        "40a74693c1a24f63abfc6c7471a504d3": {
          "model_module": "@jupyter-widgets/controls",
          "model_name": "HTMLModel",
          "state": {
            "_view_name": "HTMLView",
            "style": "IPY_MODEL_9d26feca7f834a0395db65a22dc9f10d",
            "_dom_classes": [],
            "description": "",
            "_model_name": "HTMLModel",
            "placeholder": "​",
            "_view_module": "@jupyter-widgets/controls",
            "_model_module_version": "1.5.0",
            "value": " 546/546 [00:04&lt;00:00, 121B/s]",
            "_view_count": null,
            "_view_module_version": "1.5.0",
            "description_tooltip": null,
            "_model_module": "@jupyter-widgets/controls",
            "layout": "IPY_MODEL_32f67e9cdf414f628c42de63e4083a2d"
          }
        },
        "b56e601da1da49718e115eda835864b8": {
          "model_module": "@jupyter-widgets/controls",
          "model_name": "ProgressStyleModel",
          "state": {
            "_view_name": "StyleView",
            "_model_name": "ProgressStyleModel",
            "description_width": "initial",
            "_view_module": "@jupyter-widgets/base",
            "_model_module_version": "1.5.0",
            "_view_count": null,
            "_view_module_version": "1.2.0",
            "bar_color": null,
            "_model_module": "@jupyter-widgets/controls"
          }
        },
        "b52b5900212d434ab425c5d358146825": {
          "model_module": "@jupyter-widgets/base",
          "model_name": "LayoutModel",
          "state": {
            "_view_name": "LayoutView",
            "grid_template_rows": null,
            "right": null,
            "justify_content": null,
            "_view_module": "@jupyter-widgets/base",
            "overflow": null,
            "_model_module_version": "1.2.0",
            "_view_count": null,
            "flex_flow": null,
            "width": null,
            "min_width": null,
            "border": null,
            "align_items": null,
            "bottom": null,
            "_model_module": "@jupyter-widgets/base",
            "top": null,
            "grid_column": null,
            "overflow_y": null,
            "overflow_x": null,
            "grid_auto_flow": null,
            "grid_area": null,
            "grid_template_columns": null,
            "flex": null,
            "_model_name": "LayoutModel",
            "justify_items": null,
            "grid_row": null,
            "max_height": null,
            "align_content": null,
            "visibility": null,
            "align_self": null,
            "height": null,
            "min_height": null,
            "padding": null,
            "grid_auto_rows": null,
            "grid_gap": null,
            "max_width": null,
            "order": null,
            "_view_module_version": "1.2.0",
            "grid_template_areas": null,
            "object_position": null,
            "object_fit": null,
            "grid_auto_columns": null,
            "margin": null,
            "display": null,
            "left": null
          }
        },
        "9d26feca7f834a0395db65a22dc9f10d": {
          "model_module": "@jupyter-widgets/controls",
          "model_name": "DescriptionStyleModel",
          "state": {
            "_view_name": "StyleView",
            "_model_name": "DescriptionStyleModel",
            "description_width": "",
            "_view_module": "@jupyter-widgets/base",
            "_model_module_version": "1.5.0",
            "_view_count": null,
            "_view_module_version": "1.2.0",
            "_model_module": "@jupyter-widgets/controls"
          }
        },
        "32f67e9cdf414f628c42de63e4083a2d": {
          "model_module": "@jupyter-widgets/base",
          "model_name": "LayoutModel",
          "state": {
            "_view_name": "LayoutView",
            "grid_template_rows": null,
            "right": null,
            "justify_content": null,
            "_view_module": "@jupyter-widgets/base",
            "overflow": null,
            "_model_module_version": "1.2.0",
            "_view_count": null,
            "flex_flow": null,
            "width": null,
            "min_width": null,
            "border": null,
            "align_items": null,
            "bottom": null,
            "_model_module": "@jupyter-widgets/base",
            "top": null,
            "grid_column": null,
            "overflow_y": null,
            "overflow_x": null,
            "grid_auto_flow": null,
            "grid_area": null,
            "grid_template_columns": null,
            "flex": null,
            "_model_name": "LayoutModel",
            "justify_items": null,
            "grid_row": null,
            "max_height": null,
            "align_content": null,
            "visibility": null,
            "align_self": null,
            "height": null,
            "min_height": null,
            "padding": null,
            "grid_auto_rows": null,
            "grid_gap": null,
            "max_width": null,
            "order": null,
            "_view_module_version": "1.2.0",
            "grid_template_areas": null,
            "object_position": null,
            "object_fit": null,
            "grid_auto_columns": null,
            "margin": null,
            "display": null,
            "left": null
          }
        },
        "9bcd8b35042646a0948d90157efc4fad": {
          "model_module": "@jupyter-widgets/controls",
          "model_name": "HBoxModel",
          "state": {
            "_view_name": "HBoxView",
            "_dom_classes": [],
            "_model_name": "HBoxModel",
            "_view_module": "@jupyter-widgets/controls",
            "_model_module_version": "1.5.0",
            "_view_count": null,
            "_view_module_version": "1.5.0",
            "box_style": "",
            "layout": "IPY_MODEL_3fe22da0be494c20855d5a49de96f062",
            "_model_module": "@jupyter-widgets/controls",
            "children": [
              "IPY_MODEL_60cb564b534b4a929b2c6a298dbeae0e",
              "IPY_MODEL_60a000d5a703459ca1928d0eb2016f2d"
            ]
          }
        },
        "3fe22da0be494c20855d5a49de96f062": {
          "model_module": "@jupyter-widgets/base",
          "model_name": "LayoutModel",
          "state": {
            "_view_name": "LayoutView",
            "grid_template_rows": null,
            "right": null,
            "justify_content": null,
            "_view_module": "@jupyter-widgets/base",
            "overflow": null,
            "_model_module_version": "1.2.0",
            "_view_count": null,
            "flex_flow": null,
            "width": null,
            "min_width": null,
            "border": null,
            "align_items": null,
            "bottom": null,
            "_model_module": "@jupyter-widgets/base",
            "top": null,
            "grid_column": null,
            "overflow_y": null,
            "overflow_x": null,
            "grid_auto_flow": null,
            "grid_area": null,
            "grid_template_columns": null,
            "flex": null,
            "_model_name": "LayoutModel",
            "justify_items": null,
            "grid_row": null,
            "max_height": null,
            "align_content": null,
            "visibility": null,
            "align_self": null,
            "height": null,
            "min_height": null,
            "padding": null,
            "grid_auto_rows": null,
            "grid_gap": null,
            "max_width": null,
            "order": null,
            "_view_module_version": "1.2.0",
            "grid_template_areas": null,
            "object_position": null,
            "object_fit": null,
            "grid_auto_columns": null,
            "margin": null,
            "display": null,
            "left": null
          }
        },
        "60cb564b534b4a929b2c6a298dbeae0e": {
          "model_module": "@jupyter-widgets/controls",
          "model_name": "IntProgressModel",
          "state": {
            "_view_name": "ProgressView",
            "style": "IPY_MODEL_3c00983c0b22439ca93f2b95f8d6dfbe",
            "_dom_classes": [],
            "description": "Downloading: 100%",
            "_model_name": "IntProgressModel",
            "bar_style": "success",
            "max": 267967963,
            "_view_module": "@jupyter-widgets/controls",
            "_model_module_version": "1.5.0",
            "value": 267967963,
            "_view_count": null,
            "_view_module_version": "1.5.0",
            "orientation": "horizontal",
            "min": 0,
            "description_tooltip": null,
            "_model_module": "@jupyter-widgets/controls",
            "layout": "IPY_MODEL_460c0ffd59b2423e9fcadec09e687e96"
          }
        },
        "60a000d5a703459ca1928d0eb2016f2d": {
          "model_module": "@jupyter-widgets/controls",
          "model_name": "HTMLModel",
          "state": {
            "_view_name": "HTMLView",
            "style": "IPY_MODEL_e34064edfe0846eb80fac723183ec8f4",
            "_dom_classes": [],
            "description": "",
            "_model_name": "HTMLModel",
            "placeholder": "​",
            "_view_module": "@jupyter-widgets/controls",
            "_model_module_version": "1.5.0",
            "value": " 268M/268M [00:04&lt;00:00, 65.0MB/s]",
            "_view_count": null,
            "_view_module_version": "1.5.0",
            "description_tooltip": null,
            "_model_module": "@jupyter-widgets/controls",
            "layout": "IPY_MODEL_338c6409f48f45789704ea3267cc8644"
          }
        },
        "3c00983c0b22439ca93f2b95f8d6dfbe": {
          "model_module": "@jupyter-widgets/controls",
          "model_name": "ProgressStyleModel",
          "state": {
            "_view_name": "StyleView",
            "_model_name": "ProgressStyleModel",
            "description_width": "initial",
            "_view_module": "@jupyter-widgets/base",
            "_model_module_version": "1.5.0",
            "_view_count": null,
            "_view_module_version": "1.2.0",
            "bar_color": null,
            "_model_module": "@jupyter-widgets/controls"
          }
        },
        "460c0ffd59b2423e9fcadec09e687e96": {
          "model_module": "@jupyter-widgets/base",
          "model_name": "LayoutModel",
          "state": {
            "_view_name": "LayoutView",
            "grid_template_rows": null,
            "right": null,
            "justify_content": null,
            "_view_module": "@jupyter-widgets/base",
            "overflow": null,
            "_model_module_version": "1.2.0",
            "_view_count": null,
            "flex_flow": null,
            "width": null,
            "min_width": null,
            "border": null,
            "align_items": null,
            "bottom": null,
            "_model_module": "@jupyter-widgets/base",
            "top": null,
            "grid_column": null,
            "overflow_y": null,
            "overflow_x": null,
            "grid_auto_flow": null,
            "grid_area": null,
            "grid_template_columns": null,
            "flex": null,
            "_model_name": "LayoutModel",
            "justify_items": null,
            "grid_row": null,
            "max_height": null,
            "align_content": null,
            "visibility": null,
            "align_self": null,
            "height": null,
            "min_height": null,
            "padding": null,
            "grid_auto_rows": null,
            "grid_gap": null,
            "max_width": null,
            "order": null,
            "_view_module_version": "1.2.0",
            "grid_template_areas": null,
            "object_position": null,
            "object_fit": null,
            "grid_auto_columns": null,
            "margin": null,
            "display": null,
            "left": null
          }
        },
        "e34064edfe0846eb80fac723183ec8f4": {
          "model_module": "@jupyter-widgets/controls",
          "model_name": "DescriptionStyleModel",
          "state": {
            "_view_name": "StyleView",
            "_model_name": "DescriptionStyleModel",
            "description_width": "",
            "_view_module": "@jupyter-widgets/base",
            "_model_module_version": "1.5.0",
            "_view_count": null,
            "_view_module_version": "1.2.0",
            "_model_module": "@jupyter-widgets/controls"
          }
        },
        "338c6409f48f45789704ea3267cc8644": {
          "model_module": "@jupyter-widgets/base",
          "model_name": "LayoutModel",
          "state": {
            "_view_name": "LayoutView",
            "grid_template_rows": null,
            "right": null,
            "justify_content": null,
            "_view_module": "@jupyter-widgets/base",
            "overflow": null,
            "_model_module_version": "1.2.0",
            "_view_count": null,
            "flex_flow": null,
            "width": null,
            "min_width": null,
            "border": null,
            "align_items": null,
            "bottom": null,
            "_model_module": "@jupyter-widgets/base",
            "top": null,
            "grid_column": null,
            "overflow_y": null,
            "overflow_x": null,
            "grid_auto_flow": null,
            "grid_area": null,
            "grid_template_columns": null,
            "flex": null,
            "_model_name": "LayoutModel",
            "justify_items": null,
            "grid_row": null,
            "max_height": null,
            "align_content": null,
            "visibility": null,
            "align_self": null,
            "height": null,
            "min_height": null,
            "padding": null,
            "grid_auto_rows": null,
            "grid_gap": null,
            "max_width": null,
            "order": null,
            "_view_module_version": "1.2.0",
            "grid_template_areas": null,
            "object_position": null,
            "object_fit": null,
            "grid_auto_columns": null,
            "margin": null,
            "display": null,
            "left": null
          }
        }
      }
    }
  },
  "cells": [
    {
      "cell_type": "markdown",
      "metadata": {
        "id": "33e4YJVVAMD9",
        "colab_type": "text"
      },
      "source": [
        "# Measuring Degrees of Semantic Change"
      ]
    },
    {
      "cell_type": "code",
      "metadata": {
        "id": "c9-4-6s6b7AH",
        "colab_type": "code",
        "outputId": "2bb2727a-32a9-42b0-834d-bad73529fe6b",
        "colab": {
          "base_uri": "https://localhost:8080/",
          "height": 663
        }
      },
      "source": [
        "% pip install transformers"
      ],
      "execution_count": 1,
      "outputs": [
        {
          "output_type": "stream",
          "text": [
            "Collecting transformers\n",
            "\u001b[?25l  Downloading https://files.pythonhosted.org/packages/37/ba/dda44bbf35b071441635708a3dd568a5ca6bf29f77389f7c7c6818ae9498/transformers-2.7.0-py3-none-any.whl (544kB)\n",
            "\u001b[K     |████████████████████████████████| 552kB 3.4MB/s \n",
            "\u001b[?25hRequirement already satisfied: boto3 in /usr/local/lib/python3.6/dist-packages (from transformers) (1.12.33)\n",
            "Requirement already satisfied: filelock in /usr/local/lib/python3.6/dist-packages (from transformers) (3.0.12)\n",
            "Requirement already satisfied: tqdm>=4.27 in /usr/local/lib/python3.6/dist-packages (from transformers) (4.38.0)\n",
            "Requirement already satisfied: dataclasses; python_version < \"3.7\" in /usr/local/lib/python3.6/dist-packages (from transformers) (0.7)\n",
            "Requirement already satisfied: numpy in /usr/local/lib/python3.6/dist-packages (from transformers) (1.18.2)\n",
            "Collecting sacremoses\n",
            "\u001b[?25l  Downloading https://files.pythonhosted.org/packages/a6/b4/7a41d630547a4afd58143597d5a49e07bfd4c42914d8335b2a5657efc14b/sacremoses-0.0.38.tar.gz (860kB)\n",
            "\u001b[K     |████████████████████████████████| 870kB 64.5MB/s \n",
            "\u001b[?25hCollecting tokenizers==0.5.2\n",
            "\u001b[?25l  Downloading https://files.pythonhosted.org/packages/d1/3f/73c881ea4723e43c1e9acf317cf407fab3a278daab3a69c98dcac511c04f/tokenizers-0.5.2-cp36-cp36m-manylinux1_x86_64.whl (3.7MB)\n",
            "\u001b[K     |████████████████████████████████| 3.7MB 43.4MB/s \n",
            "\u001b[?25hRequirement already satisfied: requests in /usr/local/lib/python3.6/dist-packages (from transformers) (2.21.0)\n",
            "Collecting sentencepiece\n",
            "\u001b[?25l  Downloading https://files.pythonhosted.org/packages/74/f4/2d5214cbf13d06e7cb2c20d84115ca25b53ea76fa1f0ade0e3c9749de214/sentencepiece-0.1.85-cp36-cp36m-manylinux1_x86_64.whl (1.0MB)\n",
            "\u001b[K     |████████████████████████████████| 1.0MB 45.8MB/s \n",
            "\u001b[?25hRequirement already satisfied: regex!=2019.12.17 in /usr/local/lib/python3.6/dist-packages (from transformers) (2019.12.20)\n",
            "Requirement already satisfied: jmespath<1.0.0,>=0.7.1 in /usr/local/lib/python3.6/dist-packages (from boto3->transformers) (0.9.5)\n",
            "Requirement already satisfied: s3transfer<0.4.0,>=0.3.0 in /usr/local/lib/python3.6/dist-packages (from boto3->transformers) (0.3.3)\n",
            "Requirement already satisfied: botocore<1.16.0,>=1.15.33 in /usr/local/lib/python3.6/dist-packages (from boto3->transformers) (1.15.33)\n",
            "Requirement already satisfied: six in /usr/local/lib/python3.6/dist-packages (from sacremoses->transformers) (1.12.0)\n",
            "Requirement already satisfied: click in /usr/local/lib/python3.6/dist-packages (from sacremoses->transformers) (7.1.1)\n",
            "Requirement already satisfied: joblib in /usr/local/lib/python3.6/dist-packages (from sacremoses->transformers) (0.14.1)\n",
            "Requirement already satisfied: urllib3<1.25,>=1.21.1 in /usr/local/lib/python3.6/dist-packages (from requests->transformers) (1.24.3)\n",
            "Requirement already satisfied: chardet<3.1.0,>=3.0.2 in /usr/local/lib/python3.6/dist-packages (from requests->transformers) (3.0.4)\n",
            "Requirement already satisfied: certifi>=2017.4.17 in /usr/local/lib/python3.6/dist-packages (from requests->transformers) (2019.11.28)\n",
            "Requirement already satisfied: idna<2.9,>=2.5 in /usr/local/lib/python3.6/dist-packages (from requests->transformers) (2.8)\n",
            "Requirement already satisfied: python-dateutil<3.0.0,>=2.1 in /usr/local/lib/python3.6/dist-packages (from botocore<1.16.0,>=1.15.33->boto3->transformers) (2.8.1)\n",
            "Requirement already satisfied: docutils<0.16,>=0.10 in /usr/local/lib/python3.6/dist-packages (from botocore<1.16.0,>=1.15.33->boto3->transformers) (0.15.2)\n",
            "Building wheels for collected packages: sacremoses\n",
            "  Building wheel for sacremoses (setup.py) ... \u001b[?25l\u001b[?25hdone\n",
            "  Created wheel for sacremoses: filename=sacremoses-0.0.38-cp36-none-any.whl size=884628 sha256=0e5551151e8a454ba650113e10835bd5dbed42790176c78e39adaa34438eb135\n",
            "  Stored in directory: /root/.cache/pip/wheels/6d/ec/1a/21b8912e35e02741306f35f66c785f3afe94de754a0eaf1422\n",
            "Successfully built sacremoses\n",
            "Installing collected packages: sacremoses, tokenizers, sentencepiece, transformers\n",
            "Successfully installed sacremoses-0.0.38 sentencepiece-0.1.85 tokenizers-0.5.2 transformers-2.7.0\n"
          ],
          "name": "stdout"
        }
      ]
    },
    {
      "cell_type": "code",
      "metadata": {
        "id": "sGPkCjR_io1H",
        "colab_type": "code",
        "outputId": "6f2c7924-fcbf-4dd9-f96d-6dc45453de74",
        "colab": {
          "base_uri": "https://localhost:8080/",
          "height": 139
        }
      },
      "source": [
        "from google.colab import drive\n",
        "drive.mount(\"/content/gdrive\")\n",
        "\n",
        "% cd /content/gdrive/My\\ Drive/UofT/CSC2611/Project"
      ],
      "execution_count": 2,
      "outputs": [
        {
          "output_type": "stream",
          "text": [
            "Go to this URL in a browser: https://accounts.google.com/o/oauth2/auth?client_id=947318989803-6bn6qk8qdgf4n4g3pfee6491hc0brc4i.apps.googleusercontent.com&redirect_uri=urn%3aietf%3awg%3aoauth%3a2.0%3aoob&response_type=code&scope=email%20https%3a%2f%2fwww.googleapis.com%2fauth%2fdocs.test%20https%3a%2f%2fwww.googleapis.com%2fauth%2fdrive%20https%3a%2f%2fwww.googleapis.com%2fauth%2fdrive.photos.readonly%20https%3a%2f%2fwww.googleapis.com%2fauth%2fpeopleapi.readonly\n",
            "\n",
            "Enter your authorization code:\n",
            "··········\n",
            "Mounted at /content/gdrive\n",
            "/content/gdrive/My Drive/UofT/CSC2611/Project\n"
          ],
          "name": "stdout"
        }
      ]
    },
    {
      "cell_type": "code",
      "metadata": {
        "id": "aJrxPiKQcEAj",
        "colab_type": "code",
        "colab": {}
      },
      "source": [
        "import torch\n",
        "import torch.nn as nn\n",
        "import numpy as np\n",
        "from transformers import DistilBertForMaskedLM, DistilBertTokenizer, \\\n",
        "  get_linear_schedule_with_warmup, AdamW\n",
        "import json\n",
        "from keras.preprocessing.sequence import pad_sequences\n",
        "from torch.utils.data import TensorDataset, DataLoader, \\\n",
        "    RandomSampler, SequentialSampler\n",
        "import pylab\n",
        "import matplotlib.pyplot as plt\n",
        "from sklearn.manifold import TSNE as T\n",
        "from sklearn.decomposition import TruncatedSVD\n",
        "from scipy.stats import spearmanr, pearsonr, rankdata\n",
        "from scipy.spatial.distance import jensenshannon\n",
        "import seaborn as sns"
      ],
      "execution_count": 0,
      "outputs": []
    },
    {
      "cell_type": "code",
      "metadata": {
        "id": "CQ5tEn_eiLC3",
        "colab_type": "code",
        "colab": {
          "base_uri": "https://localhost:8080/",
          "height": 66,
          "referenced_widgets": [
            "8161d33c53284fe0838737a3ee32b510",
            "2ac1e73594814467b4d04b2733f7a296",
            "3f4b6ef5708542748b34bdb66ae4b747",
            "7364c4ecae394264bd4deb25b9c81b4b",
            "8b05d1b0242d4d9082536a0e9eee08bb",
            "875f0f1642f34ead8644dea8758eb081",
            "418b0de2725d453881e5afbae631877a",
            "2cf33fb7b62d4d608ed0f1723ff39dda"
          ]
        },
        "outputId": "3e1068ca-65c7-4c0a-bdf8-6590128176a0"
      },
      "source": [
        "tokenizer = DistilBertTokenizer.from_pretrained(\"distilbert-base-uncased\")"
      ],
      "execution_count": 4,
      "outputs": [
        {
          "output_type": "display_data",
          "data": {
            "application/vnd.jupyter.widget-view+json": {
              "model_id": "8161d33c53284fe0838737a3ee32b510",
              "version_minor": 0,
              "version_major": 2
            },
            "text/plain": [
              "HBox(children=(IntProgress(value=0, description='Downloading', max=231508, style=ProgressStyle(description_wid…"
            ]
          },
          "metadata": {
            "tags": []
          }
        },
        {
          "output_type": "stream",
          "text": [
            "\n"
          ],
          "name": "stdout"
        }
      ]
    },
    {
      "cell_type": "code",
      "metadata": {
        "id": "TI26kmPJigcQ",
        "colab_type": "code",
        "colab": {}
      },
      "source": [
        "def tokenize_inputs(tokenizer, sentences, add_special_tokens=True):\n",
        "    \"\"\"\n",
        "    Use the tokenizer given to tokenize the sentences into their IDs.\n",
        "    \"\"\"\n",
        "    tokenized_sentences = []\n",
        "    for sentence in sentences:\n",
        "        tokenized_sentence = tokenizer.encode(\n",
        "            sentence, \n",
        "            add_special_tokens=add_special_tokens,\n",
        "            max_length=512\n",
        "            )\n",
        "        tokenized_sentences.append(tokenized_sentence)\n",
        "\n",
        "    return tokenized_sentences\n",
        "\n",
        "\n",
        "def pad_inputs(tokenized_sentences, padding_token=0):\n",
        "    \"\"\"\n",
        "    Return the padded sentences where each sentence is padded with 0's so that\n",
        "    all sentences have the length of the longest sentence.\n",
        "    \"\"\"\n",
        "    max_len = max([len(sentence) for sentence in tokenized_sentences])\n",
        "\n",
        "    return pad_sequences(tokenized_sentences, maxlen=max_len, dtype=\"long\",\n",
        "                         value=padding_token, truncating=\"post\", padding=\"post\")\n",
        "\n",
        "\n",
        "def get_padding_mask(padded_sentences):\n",
        "    \"\"\"\n",
        "    Return a list of masks, one for each tokenized sentence, where at each\n",
        "    position of the sentence, if the token has a non-zero value, then the token\n",
        "    has meaning and thus is not a padding token and will have value 1 in the\n",
        "    corresponding position in the mask, otherwise, the token is a padding token\n",
        "    and will have value 0 in the corresponding position in the mask.\n",
        "    \"\"\"\n",
        "    return padded_sentences > 0\n",
        "\n",
        "\n",
        "def get_train_val_loader(inputs, masks, batch_size, train_split=0.8):\n",
        "    \"\"\"\n",
        "    Return the train and validation data loader.\n",
        "    \"\"\"\n",
        "    assert 0 < train_split < 1, \\\n",
        "        \"train_split needs to be a fraction between 0 and 1 exclusive\"\n",
        "    num_train = int(np.ceil(inputs.size(0) * train_split))\n",
        "    num_val = int(inputs.size(0) - num_train)\n",
        "\n",
        "    assert num_train and num_val, \\\n",
        "        f\"the train_split given ({train_split}) resultted in either the \" \\\n",
        "        f\"number of training or validation examples being 0, which is \" \\\n",
        "        f\"invalid\"\n",
        "\n",
        "    uniform_dist = torch.ones(inputs.size(0)) / inputs.size(0)\n",
        "    train_indices = torch.multinomial(uniform_dist, num_train, replacement=False)\n",
        "    used = set([int(num) for num in train_indices])\n",
        "    val_indices = torch.tensor(\n",
        "        [i for i in range(inputs.size(0)) if i not in used]\n",
        "    )\n",
        "\n",
        "    train_inputs, train_masks = inputs[train_indices], masks[train_indices]\n",
        "\n",
        "    val_inputs, val_masks = inputs[val_indices], masks[val_indices]\n",
        "\n",
        "    train_data = TensorDataset(train_inputs, train_masks)\n",
        "    train_sampler = RandomSampler(train_data)\n",
        "    train_dataloader = DataLoader(train_data, batch_size, sampler=train_sampler)\n",
        "\n",
        "    val_data = TensorDataset(val_inputs, val_masks)\n",
        "    val_sampler = SequentialSampler(val_data)\n",
        "    val_dataloader = DataLoader(val_data, batch_size, sampler=val_sampler)\n",
        "\n",
        "    return train_dataloader, val_dataloader"
      ],
      "execution_count": 0,
      "outputs": []
    },
    {
      "cell_type": "code",
      "metadata": {
        "id": "G_nkx6JkjOQQ",
        "colab_type": "code",
        "colab": {
          "base_uri": "https://localhost:8080/",
          "height": 115,
          "referenced_widgets": [
            "3463283306964d5eba3d4d48b21051cc",
            "01c5b28e9ddc4b9faefe29ef3b71eef6",
            "ceba54e24d3f451c80ac6153d7d0db0d",
            "40a74693c1a24f63abfc6c7471a504d3",
            "b56e601da1da49718e115eda835864b8",
            "b52b5900212d434ab425c5d358146825",
            "9d26feca7f834a0395db65a22dc9f10d",
            "32f67e9cdf414f628c42de63e4083a2d",
            "9bcd8b35042646a0948d90157efc4fad",
            "3fe22da0be494c20855d5a49de96f062",
            "60cb564b534b4a929b2c6a298dbeae0e",
            "60a000d5a703459ca1928d0eb2016f2d",
            "3c00983c0b22439ca93f2b95f8d6dfbe",
            "460c0ffd59b2423e9fcadec09e687e96",
            "e34064edfe0846eb80fac723183ec8f4",
            "338c6409f48f45789704ea3267cc8644"
          ]
        },
        "outputId": "7a4e3857-81a4-494b-d27f-a48daa283cfd"
      },
      "source": [
        "model_corpus1 = DistilBertForMaskedLM.from_pretrained(\"distilbert-base-uncased\")\n",
        "model_corpus2 = DistilBertForMaskedLM.from_pretrained(\"distilbert-base-uncased\")"
      ],
      "execution_count": 6,
      "outputs": [
        {
          "output_type": "display_data",
          "data": {
            "application/vnd.jupyter.widget-view+json": {
              "model_id": "3463283306964d5eba3d4d48b21051cc",
              "version_minor": 0,
              "version_major": 2
            },
            "text/plain": [
              "HBox(children=(IntProgress(value=0, description='Downloading', max=546, style=ProgressStyle(description_width=…"
            ]
          },
          "metadata": {
            "tags": []
          }
        },
        {
          "output_type": "stream",
          "text": [
            "\n"
          ],
          "name": "stdout"
        },
        {
          "output_type": "display_data",
          "data": {
            "application/vnd.jupyter.widget-view+json": {
              "model_id": "9bcd8b35042646a0948d90157efc4fad",
              "version_minor": 0,
              "version_major": 2
            },
            "text/plain": [
              "HBox(children=(IntProgress(value=0, description='Downloading', max=267967963, style=ProgressStyle(description_…"
            ]
          },
          "metadata": {
            "tags": []
          }
        },
        {
          "output_type": "stream",
          "text": [
            "\n"
          ],
          "name": "stdout"
        }
      ]
    },
    {
      "cell_type": "code",
      "metadata": {
        "id": "Ai6Nrvfdjgym",
        "colab_type": "code",
        "colab": {}
      },
      "source": [
        "def mask_tokens(inputs, tokenizer):\n",
        "    \"\"\" \n",
        "    Prepare masked tokens inputs/labels for masked language modeling: \n",
        "    80% MASK, 10% random, 10% original. \n",
        "    \"\"\"\n",
        "\n",
        "    if tokenizer.mask_token is None:\n",
        "        raise ValueError(\n",
        "            \"This tokenizer does not have a mask token which is necessary for \\\n",
        "            masked language modeling. Remove the --mlm flag if you want to use \\\n",
        "            this tokenizer.\"\n",
        "        )\n",
        "\n",
        "    labels = inputs.clone()\n",
        "    # We sample a few tokens in each sequence for masked-LM training \n",
        "    # (with probability mlm_probability defaults to 0.15 in Bert/RoBERTa)\n",
        "    probability_matrix = torch.full(labels.shape, 0.15)\n",
        "    special_tokens_mask = [\n",
        "        tokenizer.get_special_tokens_mask(val, already_has_special_tokens=True) \n",
        "        for val in labels.tolist()\n",
        "    ]\n",
        "    probability_matrix.masked_fill_(torch.tensor(special_tokens_mask, \n",
        "                                                 dtype=torch.bool), value=0.0)\n",
        "    if tokenizer._pad_token is not None:\n",
        "        padding_mask = labels.eq(tokenizer.pad_token_id)\n",
        "        probability_matrix.masked_fill_(padding_mask, value=0.0)\n",
        "    masked_indices = torch.bernoulli(probability_matrix).bool()\n",
        "    labels[~masked_indices] = -100  # We only compute loss on masked tokens\n",
        "\n",
        "    # 80% of the time, we replace masked input tokens \n",
        "    # with tokenizer.mask_token ([MASK])\n",
        "    indices_replaced = torch.bernoulli(torch.full(labels.shape, 0.8)).bool() & masked_indices\n",
        "    inputs[indices_replaced] = tokenizer.convert_tokens_to_ids(tokenizer.mask_token)\n",
        "\n",
        "    # 10% of the time, we replace masked input tokens with random word\n",
        "    indices_random = torch.bernoulli(\n",
        "        torch.full(labels.shape, 0.5)).bool() & masked_indices & ~indices_replaced\n",
        "    random_words = torch.randint(len(tokenizer), labels.shape, dtype=torch.long)\n",
        "    inputs[indices_random] = random_words[indices_random]\n",
        "\n",
        "    # The rest of the time (10% of the time) we keep the masked input tokens unchanged\n",
        "    return inputs, labels\n",
        "\n",
        "\n",
        "def train(model, optimizer, scheduler, device, train_dataloader, tokenizer,\n",
        "          name=\"bert_corpus1\", max_iter=None):\n",
        "    step = 1\n",
        "    total_iters = len(train_dataloader) * epochs\n",
        "    total_loss = 0\n",
        "    for epoch in range(epochs):\n",
        "      model.train()\n",
        "      train_losses = []\n",
        "      for inputs, masks in train_dataloader:\n",
        "          model.zero_grad()\n",
        "          inputs, labels = mask_tokens(inputs, tokenizer)\n",
        "          inputs = inputs.to(device)\n",
        "          masks = masks.to(device)\n",
        "          labels[~masks] = -100 # we do not compute loss on the padding tokens\n",
        "          labels = labels.to(device)\n",
        "          outputs = model(\n",
        "              inputs,\n",
        "              attention_mask=masks,\n",
        "              masked_lm_labels=labels\n",
        "          )\n",
        "\n",
        "          loss = outputs[0]\n",
        "          total_loss += loss.item()\n",
        "          train_losses.append(loss)\n",
        "          if not (step % 100):\n",
        "            print(f\"At iteration {step}/{total_iters}; Avg Loss: {total_loss/100}\")\n",
        "            total_loss = 0\n",
        "            if not (step % 1000):\n",
        "              print(f\"Saving checkpoint at step {step}...\")\n",
        "              torch.save(model.state_dict(), f\"checkpoints/{name}_checkpoint.tar\")\n",
        "              print(\"Checkpoint saved...\")\n",
        "          loss.backward()\n",
        "          torch.nn.utils.clip_grad_norm_(model.parameters(), 1.0)\n",
        "          optimizer.step()\n",
        "          scheduler.step()\n",
        "\n",
        "          if max_iter is not None and step >= max_iter:\n",
        "            break\n",
        "            \n",
        "          step += 1\n",
        "\n",
        "          del loss\n",
        "          del inputs\n",
        "          del masks\n",
        "          del labels\n",
        "          del outputs\n",
        "          torch.cuda.empty_cache()\n",
        "    return train_losses \n",
        "\n",
        "\n",
        "def validate(model, device, val_dataloader, max_batches=None):\n",
        "    model.eval()\n",
        "    step = 1\n",
        "    for inputs, masks in val_dataloader:\n",
        "        inputs, labels = mask_tokens(inputs, tokenizer)\n",
        "        inputs = inputs.to(device)\n",
        "        masks = masks.to(device)\n",
        "        labels[~masks] = -100 # we do not compute loss on the padding tokens\n",
        "        labels = labels.to(device)\n",
        "        with torch.no_grad():\n",
        "            outputs = model(\n",
        "                inputs,\n",
        "                attention_mask=masks,\n",
        "                masked_lm_labels=labels\n",
        "            )\n",
        "\n",
        "        loss = outputs[0]\n",
        "\n",
        "        if max_batches is not None and step >= max_batches \\\n",
        "          or step == len(val_dataloader):\n",
        "          return loss.item()\n",
        "          \n",
        "        del loss\n",
        "        del inputs\n",
        "        del masks\n",
        "        del labels\n",
        "        del outputs\n",
        "        torch.cuda.empty_cache()\n",
        "\n",
        "        step += 1\n",
        "    "
      ],
      "execution_count": 0,
      "outputs": []
    },
    {
      "cell_type": "code",
      "metadata": {
        "id": "PmTGxCZTj76r",
        "colab_type": "code",
        "colab": {}
      },
      "source": [
        "corpus1 = open(\"ccoha1.txt\").readlines()[:]\n",
        "corpus1 = [line.strip() for line in corpus1]\n",
        "corpus2 = open(\"ccoha2.txt\").readlines()[:]\n",
        "corpus2 = [line.strip() for line in corpus2]"
      ],
      "execution_count": 0,
      "outputs": []
    },
    {
      "cell_type": "code",
      "metadata": {
        "id": "PMBqHn73pEGb",
        "colab_type": "code",
        "colab": {}
      },
      "source": [
        "seed = 42\n",
        "batch_size = 64\n",
        "epochs = 1\n",
        "device = torch.device(\"cuda\") if torch.cuda.is_available() else torch.device(\"cpu\")"
      ],
      "execution_count": 0,
      "outputs": []
    },
    {
      "cell_type": "markdown",
      "metadata": {
        "id": "VGafXUpiAf3C",
        "colab_type": "text"
      },
      "source": [
        "Finetune BERT on corpora from 2 different time periods"
      ]
    },
    {
      "cell_type": "code",
      "metadata": {
        "id": "b-xRlmEopOcQ",
        "colab_type": "code",
        "outputId": "f4c870dc-5e91-4452-c510-c2d9b34c5693",
        "colab": {
          "base_uri": "https://localhost:8080/",
          "height": 34
        }
      },
      "source": [
        "from_checkpoint = True\n",
        "checkpoint_corpus1 = \"bert_corpus1_weights.tar\"\n",
        "max_iter = None\n",
        "\n",
        "do_train_corpus1 = False\n",
        "torch.cuda.empty_cache()\n",
        "if from_checkpoint:\n",
        "  print(\"Loading checkpoint...\")\n",
        "  model_corpus1.load_state_dict(torch.load(checkpoint_corpus1, map_location=\"cpu\"))\n",
        "model_corpus1 = model_corpus1.to(device)\n",
        "if do_train_corpus1:\n",
        "  tokenized_corpus1 = tokenize_inputs(tokenizer, corpus1)\n",
        "  padded_corpus1 = pad_inputs(tokenized_corpus1, tokenizer.pad_token_id)\n",
        "  masks_corpus1 = get_padding_mask(padded_corpus1)\n",
        "\n",
        "  inputs_corpus1 = torch.tensor(padded_corpus1)\n",
        "  masks_corpus1 = torch.tensor(masks_corpus1)\n",
        "  corpus1_train_dataloader, corpus1_val_dataloader = get_train_val_loader(\n",
        "      inputs_corpus1,\n",
        "      masks_corpus1,\n",
        "      batch_size\n",
        "  )\n",
        "\n",
        "  del tokenized_corpus1\n",
        "  del padded_corpus1\n",
        "  del masks_corpus1\n",
        "  del inputs_corpus1\n",
        "  total_iterations = len(corpus1_train_dataloader) * epochs\n",
        "  parameters = []\n",
        "  for name, param in model_corpus1.named_parameters():\n",
        "    if name == \"distilbert.embeddings.word_embeddings.weight\":\n",
        "        parameters.append(param)\n",
        "    else:\n",
        "      param.requires_grad_(False)\n",
        "\n",
        "  parameters = nn.ParameterList(parameters)\n",
        "  corpus1_optimizer = AdamW(parameters, lr=2e-5)\n",
        "  corpus1_scheduler = get_linear_schedule_with_warmup(\n",
        "      corpus1_optimizer, 0, total_iterations)\n",
        "\n",
        "  train_loss = train(model_corpus1, corpus1_optimizer, corpus1_scheduler, \n",
        "                     device, corpus1_train_dataloader, tokenizer)\n",
        "  torch.save(model_corpus1.state_dict(), \"bert_corpus1_weights.tar\")\n",
        "\n",
        "  validate_loss = validate(model_corpus1, device, corpus1_val_dataloader, 1000)\n",
        "\n",
        "  graph_losses = [loss.item() for loss in train_loss]\n",
        "  print(graph_losses[:10])\n",
        "  plt.plot(graph_losses)\n",
        "  plt.show()\n",
        "  print(validate_loss)"
      ],
      "execution_count": 12,
      "outputs": [
        {
          "output_type": "stream",
          "text": [
            "Loading checkpoint...\n"
          ],
          "name": "stdout"
        }
      ]
    },
    {
      "cell_type": "code",
      "metadata": {
        "id": "ewtWnIxLYqV3",
        "colab_type": "code",
        "colab": {}
      },
      "source": [
        "batch_size = 16\n",
        "epochs = 1"
      ],
      "execution_count": 0,
      "outputs": []
    },
    {
      "cell_type": "code",
      "metadata": {
        "id": "vglS2-FPS-BW",
        "colab_type": "code",
        "outputId": "db418ae3-c5ad-4c81-b4fb-36c678789a3d",
        "colab": {
          "base_uri": "https://localhost:8080/",
          "height": 34
        }
      },
      "source": [
        "from_checkpoint = True\n",
        "checkpoint_corpus2 = \"bert_corpus2_weights.tar\"\n",
        "max_iter = None\n",
        "\n",
        "do_train_corpus2 = False\n",
        "torch.cuda.empty_cache()\n",
        "if from_checkpoint:\n",
        "  print(\"Loading checkpoint...\")\n",
        "  model_corpus2.load_state_dict(torch.load(checkpoint_corpus2, map_location=\"cpu\"))\n",
        "model_corpus2 = model_corpus2.to(device)\n",
        "if do_train_corpus2:\n",
        "  # tokenized_corpus2 = tokenize_inputs(tokenizer, corpus2)\n",
        "  # padded_corpus2 = pad_inputs(tokenized_corpus2, tokenizer.pad_token_id)\n",
        "  # masks_corpus2 = get_padding_mask(padded_corpus2)\n",
        "\n",
        "  # inputs_corpus2 = torch.tensor(padded_corpus2)\n",
        "  # masks_corpus2 = torch.tensor(masks_corpus2)\n",
        "\n",
        "  # torch.save(inputs_corpus2, \"inputs_corpus2.tar\")\n",
        "  # torch.save(masks_corpus2, \"masks_corpus2.tar\")\n",
        "\n",
        "  inputs_corpus2 = torch.load(\"inputs_corpus2.tar\", map_location=\"cpu\")\n",
        "  masks_corpus2 = torch.load(\"masks_corpus2.tar\", map_location=\"cpu\")\n",
        "  corpus2_train_dataloader, corpus2_val_dataloader = get_train_val_loader(\n",
        "      inputs_corpus2,\n",
        "      masks_corpus2,\n",
        "      batch_size\n",
        "  )\n",
        "\n",
        "  # del tokenized_corpus2\n",
        "  # del padded_corpus2\n",
        "  del masks_corpus2\n",
        "  del inputs_corpus2\n",
        "  total_iterations = len(corpus2_train_dataloader) * epochs\n",
        "  parameters = []\n",
        "  for name, param in model_corpus2.named_parameters():\n",
        "    if name == \"distilbert.embeddings.word_embeddings.weight\":\n",
        "        parameters.append(param)\n",
        "    else:\n",
        "      param.requires_grad_(False)\n",
        "\n",
        "  parameters = nn.ParameterList(parameters)\n",
        "  corpus2_optimizer = AdamW(parameters, lr=2e-5)\n",
        "  corpus2_scheduler = get_linear_schedule_with_warmup(\n",
        "      corpus2_optimizer, 0, total_iterations)\n",
        "\n",
        "  train_loss = train(model_corpus2, corpus2_optimizer, corpus2_scheduler, \n",
        "                     device, corpus2_train_dataloader, tokenizer, \"bert_corpus2\")\n",
        "  torch.save(model_corpus2.state_dict(), \"bert_corpus2_weights.tar\")\n",
        "  graph_losses = [loss.item() for loss in train_loss]\n",
        "  plt.plot(graph_losses)\n",
        "  plt.show()"
      ],
      "execution_count": 14,
      "outputs": [
        {
          "output_type": "stream",
          "text": [
            "Loading checkpoint...\n"
          ],
          "name": "stdout"
        }
      ]
    },
    {
      "cell_type": "code",
      "metadata": {
        "id": "YVdFBEcIX7mV",
        "colab_type": "code",
        "colab": {}
      },
      "source": [
        "with open(\"expected_div.txt\") as f:\n",
        "  expected_div = f.readlines()[:]\n",
        "  expected_div = [line.strip().split(\"\\t\") for line in expected_div]\n",
        "  expected_div = {word[:-3]: float(val) for word, val in expected_div}\n",
        "  f.close()"
      ],
      "execution_count": 0,
      "outputs": []
    },
    {
      "cell_type": "code",
      "metadata": {
        "id": "ypUjYv2yZhmX",
        "colab_type": "code",
        "colab": {}
      },
      "source": [
        "def cosine_distance(matrix1, matrix2):\n",
        "  dot = np.einsum(\"ij,ij->i\", matrix1, matrix2)\n",
        "  norm1 = np.linalg.norm(matrix1, axis=1)\n",
        "  norm2 = np.linalg.norm(matrix2, axis=1)\n",
        "  \n",
        "  return 1 - dot / (norm1 * norm2)\n",
        "\n",
        "\n",
        "def euclidean_distance(matrix1, matrix2):\n",
        "  diff = matrix1 - matrix2\n",
        "  dist = (diff ** 2).sum(axis=1)\n",
        "\n",
        "  return dist ** 0.5"
      ],
      "execution_count": 0,
      "outputs": []
    },
    {
      "cell_type": "code",
      "metadata": {
        "id": "zDUl-NXHqMPJ",
        "colab_type": "code",
        "colab": {}
      },
      "source": [
        "class TSNE:\n",
        "    \"\"\"\n",
        "    t-SNE projection for dimensionality reduction.\n",
        "    \"\"\"\n",
        "    def __init__(self, high_dim_data, perplexity=1e-5, tolerance=30.0, \n",
        "                 normalize=False):\n",
        "        \"\"\"\n",
        "        Initialize an instance of t-SNE analysis class.\n",
        "        \"\"\"\n",
        "        self.data = high_dim_data\n",
        "        self.perplexity = perplexity\n",
        "        self.tolerance = tolerance\n",
        "        if normalize:\n",
        "          self.transform_stable()\n",
        "\n",
        "    def transform_stable(self):\n",
        "        \"\"\"\n",
        "        Normalize the data and then remove NaN data points.\n",
        "        \"\"\"\n",
        "        data = self.data\n",
        "        data = np.nan_to_num(\n",
        "            (data - np.mean(data, axis=0)) / np.std(data, axis=0), 0)\n",
        "        self.data = data\n",
        "\n",
        "    def pairwise_distance(self, data=None):\n",
        "        \"\"\"\n",
        "        Compute the pairwise distances of all the high dimensional data stored.\n",
        "        \"\"\"\n",
        "        if data is None:\n",
        "            data = self.data\n",
        "        assert len(data.shape) == 2\n",
        "        diff = data[:, None] - data\n",
        "        dist = (diff ** 2).sum(axis=2)\n",
        "\n",
        "        return dist\n",
        "\n",
        "    @staticmethod\n",
        "    def compute_probs(distance, sigma, word_pos):\n",
        "        \"\"\"\n",
        "        Compute the probability distribution of neighbors of the word at\n",
        "        <word_pos>\n",
        "        \"\"\"\n",
        "        neg_dist = -distance / (2 * sigma ** 2)\n",
        "        exp_neg_dist = np.exp(neg_dist)\n",
        "\n",
        "        exp_neg_dist[word_pos] = 0\n",
        "\n",
        "        probs = exp_neg_dist / exp_neg_dist.sum()\n",
        "        return probs\n",
        "\n",
        "    @staticmethod\n",
        "    def compute_perplexity(probs, word_pos):\n",
        "        \"\"\"\n",
        "        Return the perplexity of the probability distribution of neighbors\n",
        "        of the word at <word_pos>.\n",
        "        \"\"\"\n",
        "        log_probs = np.log2(probs)\n",
        "        log_probs[word_pos] = 0\n",
        "        return 2 ** -(probs * log_probs).sum()\n",
        "\n",
        "    def get_sigma(self, distance, word_pos, sigmas):\n",
        "        \"\"\"\n",
        "        Compute the appropriate sigma value for probability distribution\n",
        "        computation such that the perplexity is the same for all words'\n",
        "        probability distributions.\n",
        "        \"\"\"\n",
        "        perplexity, tolerance = self.perplexity, self.tolerance\n",
        "        min_val, max_val = -float(\"inf\"), float(\"inf\")\n",
        "\n",
        "        iters = 0\n",
        "        probs = self.compute_probs(distance, sigmas[word_pos], word_pos)\n",
        "        computed_perplexity = self.compute_perplexity(probs, word_pos)\n",
        "        diff = perplexity - computed_perplexity\n",
        "        at_limit = False\n",
        "\n",
        "        while abs(diff) > tolerance and iters < 50:\n",
        "            if diff > 0:\n",
        "                min_val = sigmas[word_pos]\n",
        "                if at_limit:\n",
        "                    sigmas[word_pos] = (min_val + max_val) / 2\n",
        "                else:\n",
        "                    max_val = sigmas[word_pos] * 2\n",
        "                    sigmas[word_pos] = max_val\n",
        "            else:\n",
        "                max_val = sigmas[word_pos]\n",
        "                sigmas[word_pos] = (min_val + max_val) / 2\n",
        "                at_limit = True\n",
        "\n",
        "            probs = self.compute_probs(distance, sigmas[word_pos], word_pos)\n",
        "            computed_perplexity = self.compute_perplexity(probs, word_pos)\n",
        "            diff = perplexity - computed_perplexity\n",
        "            iters += 1\n",
        "\n",
        "        return probs\n",
        "\n",
        "    def get_probs_dists(self, data=None):\n",
        "        \"\"\"\n",
        "        Compute the probability distribution for each word.\n",
        "        \"\"\"\n",
        "        if data is None:\n",
        "          data = self.data\n",
        "\n",
        "        num_words = data.shape[0]\n",
        "\n",
        "        distances = self.pairwise_distance(data)\n",
        "        scaled_distances = distances / distances.std(axis=-1) * 10\n",
        "\n",
        "        final_probs = np.zeros((num_words, num_words))\n",
        "        sigmas = np.ones(num_words)\n",
        "\n",
        "        for word_pos in range(num_words):\n",
        "            distance = scaled_distances[word_pos]\n",
        "            final_probs[word_pos] = self.get_sigma(distance, word_pos, sigmas)\n",
        "\n",
        "        return final_probs\n",
        "\n",
        "    def pca(self, data=None, target_dim=None):\n",
        "        if data is None:\n",
        "          data = self.data\n",
        "        eigenvectors, eigenvalues = np.linalg.eig(data.T @ data)\n",
        "        if target_dim:\n",
        "            return np.real(data @ eigenvalues[:, :target_dim])\n",
        "        else:\n",
        "            variances = eigenvectors / sum(eigenvectors)\n",
        "\n",
        "            total = 0\n",
        "            for i, var in enumerate(variances):\n",
        "                total += var\n",
        "                if total >= 0.8:\n",
        "                    return np.real(data @ eigenvalues[:, :i])\n",
        "\n",
        "    def project(self, num_words, lr, momentum, target_dim, max_iter, do_pca=True, pca_dim=2):\n",
        "        \"\"\"\n",
        "        Run tsne using gradient descent.\n",
        "        \"\"\"\n",
        "        if do_pca:\n",
        "          original_probs = self.get_probs_dists(self.pca(target_dim=pca_dim))\n",
        "        else:\n",
        "          original_probs = self.get_probs_dists()\n",
        "        \n",
        "        n = num_words\n",
        "        new_dist = np.random.normal(loc=0, scale=0.01, size=(n, target_dim))\n",
        "\n",
        "        v = 0\n",
        "        for iter in range(max_iter):\n",
        "            pairwise_new_dist = self.pairwise_distance(new_dist)\n",
        "            q = 1 / (1 + pairwise_new_dist)\n",
        "            np.fill_diagonal(q, 0)\n",
        "            Q = q / np.sum(q, axis=1, keepdims=True)\n",
        "            new_dist_flat = new_dist.flatten()\n",
        "            d = new_dist_flat.reshape(target_dim, n, 1, order='F') \\\n",
        "                - new_dist_flat.reshape(target_dim, 1, n, order='F')\n",
        "            \n",
        "            CE = -original_probs * np.log2(Q)\n",
        "            np.fill_diagonal(CE, 0)\n",
        "\n",
        "            gd = 4 * (original_probs - Q) * q * d\n",
        "            gradient = np.sum(gd, axis=2).T\n",
        "\n",
        "            v = lr * gradient + momentum * v\n",
        "            new_dist -= v\n",
        "\n",
        "        return new_dist\n"
      ],
      "execution_count": 0,
      "outputs": []
    },
    {
      "cell_type": "code",
      "metadata": {
        "id": "kDRgIskjZqHG",
        "colab_type": "code",
        "colab": {}
      },
      "source": [
        "embeddings_corpus1 = model_corpus1.distilbert.embeddings.word_embeddings.weight\n",
        "embeddings_corpus2 = model_corpus2.distilbert.embeddings.word_embeddings.weight\n",
        "\n",
        "embeddings1 = torch.zeros(len(expected_div), 768)\n",
        "embeddings2 = torch.zeros(len(expected_div), 768)\n",
        "word_to_idx = {}\n",
        "for i, word in enumerate(expected_div):\n",
        "  word_to_idx[word] = i\n",
        "  word_idx = tokenizer.encode(word, add_special_tokens=False)\n",
        "  embedding1 = torch.zeros(768).to(device)\n",
        "  embedding2 = torch.zeros(768).to(device)\n",
        "  for idx in word_idx:\n",
        "    embedding1 += embeddings_corpus1[idx]\n",
        "    embedding2 += embeddings_corpus2[idx]\n",
        "  \n",
        "  embeddings1[i] = embedding1.cpu().detach()\n",
        "  embeddings2[i] = embedding2.cpu().detach()\n",
        "\n",
        "embeddings1 = embeddings1.cpu().detach().numpy()\n",
        "embeddings2 = embeddings2.cpu().detach().numpy()"
      ],
      "execution_count": 0,
      "outputs": []
    },
    {
      "cell_type": "code",
      "metadata": {
        "id": "icMDCTFZuBnL",
        "colab_type": "code",
        "colab": {
          "base_uri": "https://localhost:8080/",
          "height": 68
        },
        "outputId": "75eaa9c1-2471-4e0f-b71a-7cc9fe1c51c5"
      },
      "source": [
        "target_dim = 2\n",
        "max_iter = 1000\n",
        "learning_rate = 0.1\n",
        "momentum = 0.9\n",
        "num_words = embeddings1.shape[0]\n",
        "\n",
        "compute_distance = True\n",
        "\n",
        "if compute_distance:\n",
        "  np.random.seed(986)\n",
        "  tsne1 = TSNE(embeddings1)\n",
        "  tsne2 = TSNE(embeddings2) \n",
        "  embeddings_first_corpus = tsne1.project(num_words, learning_rate, momentum, target_dim, max_iter)\n",
        "  embeddings_second_corpus = tsne2.project(num_words, learning_rate, momentum, target_dim, max_iter)\n",
        "  \n",
        "  cosine_distances = cosine_distance(embeddings_first_corpus, embeddings_second_corpus)\n",
        "\n",
        "  actual = []\n",
        "  true = []\n",
        "  for word in expected_div:\n",
        "    true.append(expected_div[word])\n",
        "    idx = word_to_idx[word]\n",
        "    actual.append(cosine_distances[idx])\n",
        "\n",
        "else:\n",
        "  actual = np.load(\"actual_cosine.npy\")\n",
        "  true = np.load(\"true_dist.npy\")  "
      ],
      "execution_count": 19,
      "outputs": [
        {
          "output_type": "stream",
          "text": [
            "/usr/local/lib/python3.6/dist-packages/ipykernel_launcher.py:57: RuntimeWarning: divide by zero encountered in log2\n",
            "/usr/local/lib/python3.6/dist-packages/ipykernel_launcher.py:153: RuntimeWarning: divide by zero encountered in log2\n",
            "/usr/local/lib/python3.6/dist-packages/ipykernel_launcher.py:153: RuntimeWarning: invalid value encountered in multiply\n"
          ],
          "name": "stderr"
        }
      ]
    },
    {
      "cell_type": "code",
      "metadata": {
        "id": "LpiHtzR913c_",
        "colab_type": "code",
        "outputId": "685c7e07-9942-45da-bb12-6a3dfd922f66",
        "colab": {
          "base_uri": "https://localhost:8080/",
          "height": 279
        }
      },
      "source": [
        "for x, y in zip(actual, true):\n",
        "  plt.plot(x, y, \"bo\")\n",
        "\n",
        "plt.xlim(min(actual), max(actual))\n",
        "plt.ylim(min(true), max(true))\n",
        "plt.xlabel(\"Actual degrees of change\")\n",
        "plt.ylabel(\"True degrees of change\")\n",
        "plt.show()"
      ],
      "execution_count": 20,
      "outputs": [
        {
          "output_type": "display_data",
          "data": {
            "image/png": "[encoded data removed]",
            "text/plain": [
              "<Figure size 432x288 with 1 Axes>"
            ]
          },
          "metadata": {
            "tags": []
          }
        }
      ]
    },
    {
      "cell_type": "code",
      "metadata": {
        "id": "v4NOBPrR114r",
        "colab_type": "code",
        "outputId": "e269a706-4658-49f9-8591-0ea01c373732",
        "colab": {
          "base_uri": "https://localhost:8080/",
          "height": 34
        }
      },
      "source": [
        "pearson_coeff_cos = pearsonr(actual, true)[0]\n",
        "pearson_coeff_cos"
      ],
      "execution_count": 21,
      "outputs": [
        {
          "output_type": "execute_result",
          "data": {
            "text/plain": [
              "0.4048000664528801"
            ]
          },
          "metadata": {
            "tags": []
          },
          "execution_count": 21
        }
      ]
    },
    {
      "cell_type": "code",
      "metadata": {
        "id": "F4GrBOxgNsc9",
        "colab_type": "code",
        "outputId": "bbc1aae6-e634-445c-cac9-7af03558faa8",
        "colab": {
          "base_uri": "https://localhost:8080/",
          "height": 34
        }
      },
      "source": [
        "rank_actual, rank_true = rankdata(actual), rankdata(true)\n",
        "spearmanr(rank_actual, rank_true)"
      ],
      "execution_count": 22,
      "outputs": [
        {
          "output_type": "execute_result",
          "data": {
            "text/plain": [
              "SpearmanrResult(correlation=0.4633351190704831, pvalue=0.003876690166143042)"
            ]
          },
          "metadata": {
            "tags": []
          },
          "execution_count": 22
        }
      ]
    },
    {
      "cell_type": "code",
      "metadata": {
        "id": "Ht7rFWx78RCO",
        "colab_type": "code",
        "colab": {}
      },
      "source": [
        "idx_to_word = {word_to_idx[word]: word for word in word_to_idx}\n",
        "\n",
        "cos_degree_of_change = {}\n",
        "euc_degree_of_change = {}\n",
        "for i in range(embeddings1.shape[0]):\n",
        "  word = idx_to_word[i]\n",
        "  cos_degree_of_change[word] = cosine_distances[i]\n",
        "\n",
        "with open(\"cos_degree_of_change.json\", \"w+\") as f:\n",
        "  json.dump(cos_degree_of_change, f)\n",
        "  f.close()"
      ],
      "execution_count": 0,
      "outputs": []
    },
    {
      "cell_type": "code",
      "metadata": {
        "id": "yeQ8kjCnjyeJ",
        "colab_type": "code",
        "colab": {}
      },
      "source": [
        "sns.set(style='darkgrid')\n",
        "sns.set(font_scale=1.5)\n",
        "plt.rcParams[\"figure.figsize\"] = (12,6)\n",
        "def plot_embeddings_2d(embeddings, words, skips, save_path=None):\n",
        "  pylab.figure()\n",
        "  for i, word in enumerate(words):\n",
        "    if word in skips:\n",
        "      continue\n",
        "    x, y = embeddings[i]\n",
        "    pylab.text(x, y, word)\n",
        "  x_min, x_max = embeddings[:, 0].min(), embeddings[:, 0].max()\n",
        "  y_min, y_max = embeddings[:, 1].min(), embeddings[:, 1].max()\n",
        "  print(x_min, x_max, y_min, y_max)\n",
        "  pylab.xlim(x_min, x_max)\n",
        "  pylab.ylim(y_min, y_max)\n",
        "  if save_path is not None:\n",
        "    plt.savefig(save_path)\n",
        "  pylab.show()"
      ],
      "execution_count": 0,
      "outputs": []
    },
    {
      "cell_type": "code",
      "metadata": {
        "id": "8j_quJW2gQZA",
        "colab_type": "code",
        "colab": {}
      },
      "source": [
        "words = [\"gay\", \"happy\", \"cheerful\", \"joy\", \"homosexual\", \n",
        "         \"lesbian\", \"mouse\", \"cat\", \"rodent\", \"device\", \"computer\"]"
      ],
      "execution_count": 0,
      "outputs": []
    },
    {
      "cell_type": "code",
      "metadata": {
        "id": "Z7yyK-GPgjoP",
        "colab_type": "code",
        "outputId": "22f389c8-af87-4335-de5d-90b9546977cc",
        "colab": {
          "base_uri": "https://localhost:8080/",
          "height": 68
        }
      },
      "source": [
        "indices = []\n",
        "for word in words:\n",
        "  indices.append(tokenizer.encode([word], add_special_tokens=False)[0])\n",
        "\n",
        "indices = torch.tensor(indices)\n",
        "embeddings1_vis = embeddings_corpus1[indices].cpu().detach().numpy()\n",
        "embeddings2_vis = embeddings_corpus2[indices].cpu().detach().numpy()\n",
        "np.random.seed(20)\n",
        "tsne1 = TSNE(embeddings1_vis)\n",
        "tsne2 = TSNE(embeddings2_vis)\n",
        "\n",
        "target_dim = 2\n",
        "max_iter = 1000\n",
        "learning_rate = 0.1\n",
        "momentum = 0.9\n",
        "num_words = embeddings1_vis.shape[0]\n",
        "\n",
        "embeddings1_vis = tsne1.project(num_words, learning_rate, momentum, target_dim, max_iter, False)\n",
        "embeddings2_vis = tsne2.project(num_words, learning_rate, momentum, target_dim, max_iter, False)"
      ],
      "execution_count": 26,
      "outputs": [
        {
          "output_type": "stream",
          "text": [
            "/usr/local/lib/python3.6/dist-packages/ipykernel_launcher.py:57: RuntimeWarning: divide by zero encountered in log2\n",
            "/usr/local/lib/python3.6/dist-packages/ipykernel_launcher.py:153: RuntimeWarning: divide by zero encountered in log2\n",
            "/usr/local/lib/python3.6/dist-packages/ipykernel_launcher.py:153: RuntimeWarning: invalid value encountered in multiply\n"
          ],
          "name": "stderr"
        }
      ]
    },
    {
      "cell_type": "markdown",
      "metadata": {
        "id": "iY6mtunQAmaT",
        "colab_type": "text"
      },
      "source": [
        "Visualization of the word embeddings obtained from the 2 corpora"
      ]
    },
    {
      "cell_type": "code",
      "metadata": {
        "id": "svUDAphthZDS",
        "colab_type": "code",
        "outputId": "666a7e7e-f8fa-4f45-f735-a6d5c6ea66f5",
        "colab": {
          "base_uri": "https://localhost:8080/",
          "height": 416
        }
      },
      "source": [
        "plot_embeddings_2d(embeddings1_vis, words, (), save_path=\"time1_embeddings.png\")"
      ],
      "execution_count": 27,
      "outputs": [
        {
          "output_type": "stream",
          "text": [
            "-15.135398123394047 40.14060053305019 -25.26836103842354 39.587435784451344\n"
          ],
          "name": "stdout"
        },
        {
          "output_type": "display_data",
          "data": {
            "image/png": "[encoded data removed]",
            "text/plain": [
              "<Figure size 864x432 with 1 Axes>"
            ]
          },
          "metadata": {
            "tags": []
          }
        }
      ]
    },
    {
      "cell_type": "code",
      "metadata": {
        "id": "0kBlc3hthtaY",
        "colab_type": "code",
        "outputId": "74085fce-45be-4ea6-cdf9-031c2c918456",
        "colab": {
          "base_uri": "https://localhost:8080/",
          "height": 416
        }
      },
      "source": [
        "plot_embeddings_2d(embeddings2_vis, words, (), save_path=\"time2_embeddings.png\")"
      ],
      "execution_count": 28,
      "outputs": [
        {
          "output_type": "stream",
          "text": [
            "-4.542040485620516 43.9906357531949 -31.414202867203326 27.35294113345134\n"
          ],
          "name": "stdout"
        },
        {
          "output_type": "display_data",
          "data": {
            "image/png": "[encoded data removed]",
            "text/plain": [
              "<Figure size 864x432 with 1 Axes>"
            ]
          },
          "metadata": {
            "tags": []
          }
        }
      ]
    },
    {
      "cell_type": "markdown",
      "metadata": {
        "id": "7uTmcBeyAvEB",
        "colab_type": "text"
      },
      "source": [
        "Measure Jensen-Shannon divergence between frequencies (which can be interpreted as probability distributions)"
      ]
    },
    {
      "cell_type": "code",
      "metadata": {
        "id": "JL_2c0_f-MrE",
        "colab_type": "code",
        "colab": {
          "base_uri": "https://localhost:8080/",
          "height": 255
        },
        "outputId": "8378452a-10ac-404a-8ba1-42ae9efc2ec8"
      },
      "source": [
        "with open(\"sense_use_ratio_compare.json\") as file:\n",
        "  sense_use_ratio_compare = json.load(file)\n",
        "\n",
        "with open(\"word_sense_to_id_pos.json\") as file:\n",
        "  word_sense_to_id = json.load(file)\n",
        "\n",
        "\n",
        "word_id_to_sense = {word: {\n",
        "    word_sense_to_id[word][k]: k for k in word_sense_to_id[word]} \n",
        "    for word in word_sense_to_id}\n",
        "\n",
        "for sense in sense_use_ratio_compare[\"attack\"]:\n",
        "  print(sense, word_id_to_sense[\"attack\"][int(sense)])\n",
        "sense_use_ratio_compare[\"attack\"]"
      ],
      "execution_count": 31,
      "outputs": [
        {
          "output_type": "stream",
          "text": [
            "0 the act of attacking\n",
            "1 (military) an offensive against an enemy (using weapons)\n",
            "2 ideas or actions intended to deal with a problem or situation\n",
            "3 intense adverse criticism\n",
            "4 a decisive manner of beginning a musical tone or phrase\n",
            "5 an offensive move in a sport or game\n",
            "6 a sudden occurrence of an uncontrollable condition\n"
          ],
          "name": "stdout"
        },
        {
          "output_type": "execute_result",
          "data": {
            "text/plain": [
              "{'0': [0.0022026431718061676, 0.006002400960384154],\n",
              " '1': [0.18061674008810572, 0.42016806722689076],\n",
              " '2': [0.022026431718061675, 0.006002400960384154],\n",
              " '3': [0.6475770925110133, 0.3169267707082833],\n",
              " '4': [0.0022026431718061676, 0.0012004801920768306],\n",
              " '5': [0.08590308370044053, 0.07563025210084033],\n",
              " '6': [0.05947136563876652, 0.17406962785114047]}"
            ]
          },
          "metadata": {
            "tags": []
          },
          "execution_count": 31
        }
      ]
    },
    {
      "cell_type": "code",
      "metadata": {
        "id": "bis0plq4-gWN",
        "colab_type": "code",
        "colab": {}
      },
      "source": [
        "divergence = {}\n",
        "for word in sense_use_ratio_compare:\n",
        "  if not sense_use_ratio_compare[word]:\n",
        "    continue\n",
        "  p_dist = []\n",
        "  q_dist = []\n",
        "  for sense in sense_use_ratio_compare[word]:\n",
        "    p_dist.append(sense_use_ratio_compare[word][sense][0])\n",
        "    q_dist.append(sense_use_ratio_compare[word][sense][1])\n",
        "  jsd = jensenshannon(p_dist, q_dist)\n",
        "  divergence[word] = jsd\n",
        "\n",
        "\n",
        "actual = []\n",
        "true = []\n",
        "for word in divergence:\n",
        "  actual.append(divergence[word])\n",
        "  true.append(expected_div[word])"
      ],
      "execution_count": 0,
      "outputs": []
    },
    {
      "cell_type": "code",
      "metadata": {
        "id": "uIJRO8ib_Obp",
        "colab_type": "code",
        "colab": {
          "base_uri": "https://localhost:8080/",
          "height": 510
        },
        "outputId": "e9db8361-e47b-4a07-f5be-c67062844716"
      },
      "source": [
        "divergence"
      ],
      "execution_count": 40,
      "outputs": [
        {
          "output_type": "execute_result",
          "data": {
            "text/plain": [
              "{'attack': 0.26700679985238773,\n",
              " 'bag': 0.09845271839245677,\n",
              " 'ball': 0.23979994464020243,\n",
              " 'bit': 0.12367509448160706,\n",
              " 'chairman': 0.0,\n",
              " 'circle': 0.1710430441358887,\n",
              " 'contemplation': 0.027767151103355495,\n",
              " 'edge': 0.17733369622327894,\n",
              " 'face': 0.07140226081432696,\n",
              " 'fiction': 0.0,\n",
              " 'gas': 0.3322081250308525,\n",
              " 'head': 0.12525819566369134,\n",
              " 'land': 0.1833818529871792,\n",
              " 'lane': 0.350913249554422,\n",
              " 'ounce': 0.0,\n",
              " 'part': 0.2159160043691186,\n",
              " 'pin': 0.07077811870740301,\n",
              " 'plane': 0.6417841370571471,\n",
              " 'player': 0.044682663345109806,\n",
              " 'prop': 0.0,\n",
              " 'rag': 0.0,\n",
              " 'record': 0.42566048531131356,\n",
              " 'relationship': 0.10124762239909144,\n",
              " 'risk': 0.15646033277433946,\n",
              " 'stroke': 0.0,\n",
              " 'tip': 0.14382136629969694,\n",
              " 'tree': 0.0,\n",
              " 'twist': 0.2193113485519269,\n",
              " 'word': 0.15503911979800586}"
            ]
          },
          "metadata": {
            "tags": []
          },
          "execution_count": 40
        }
      ]
    },
    {
      "cell_type": "code",
      "metadata": {
        "id": "k7aa3fF__iEO",
        "colab_type": "code",
        "colab": {
          "base_uri": "https://localhost:8080/",
          "height": 71
        },
        "outputId": "0025585f-fa6b-496d-982c-db441ab96bb6"
      },
      "source": [
        "print(actual)\n",
        "print(true)"
      ],
      "execution_count": 42,
      "outputs": [
        {
          "output_type": "stream",
          "text": [
            "[0.07140226081432696, 0.2159160043691186, 0.12525819566369134, 0.42566048531131356, 0.15503911979800586, 0.17733369622327894, 0.1833818529871792, 0.1710430441358887, 0.10124762239909144, 0.0, 0.0, 0.23979994464020243, 0.6417841370571471, 0.15646033277433946, 0.3322081250308525, 0.0, 0.09845271839245677, 0.0, 0.12367509448160706, 0.0, 0.2193113485519269, 0.26700679985238773, 0.14382136629969694, 0.07077811870740301, 0.044682663345109806, 0.027767151103355495, 0.350913249554422, 0.0, 0.0]\n",
            "[0.137791275, 0.161270809, 0.2952561247, 0.4273504707, 0.1793071623, 0.2609655868, 0.2234476353, 0.1710871199, 0.0562177896, 0.2765152931, 0.0207232682, 0.4093665525, 0.8823475834, 0.0, 0.1595695865, 0.2848990681, 0.1003636619, 0.624759971, 0.3065766263, 0.070838721, 0.3984926634, 0.1439699927, 0.6788987615, 0.2072118595, 0.2736674651, 0.070838721, 0.1037200629, 0.1762311532, 0.0]\n"
          ],
          "name": "stdout"
        }
      ]
    },
    {
      "cell_type": "code",
      "metadata": {
        "id": "MEA_aUA6_9vf",
        "colab_type": "code",
        "colab": {
          "base_uri": "https://localhost:8080/",
          "height": 34
        },
        "outputId": "6f502deb-c2d4-4043-d6d7-b17bc8054bc7"
      },
      "source": [
        "pearsonr(actual, true)[0]"
      ],
      "execution_count": 44,
      "outputs": [
        {
          "output_type": "execute_result",
          "data": {
            "text/plain": [
              "0.46723005384070926"
            ]
          },
          "metadata": {
            "tags": []
          },
          "execution_count": 44
        }
      ]
    },
    {
      "cell_type": "code",
      "metadata": {
        "id": "Vwcze4m9AAiC",
        "colab_type": "code",
        "colab": {
          "base_uri": "https://localhost:8080/",
          "height": 102
        },
        "outputId": "50fafde9-9a5e-47d2-81d4-ae694c6c2f53"
      },
      "source": [
        "rank_actual = rankdata(actual)\n",
        "rank_true = rankdata(true)\n",
        "print(rank_actual)\n",
        "print(rank_true)"
      ],
      "execution_count": 45,
      "outputs": [
        {
          "output_type": "stream",
          "text": [
            "[11. 22. 15. 28. 17. 20. 21. 19. 13.  4.  4. 24. 29. 18. 26.  4. 12.  4.\n",
            " 14.  4. 23. 25. 16. 10.  9.  8. 27.  4.  4.]\n",
            "[ 9.  12.  22.  26.  15.  18.  17.  13.   4.  20.   3.  25.  29.   1.5\n",
            " 11.  21.   7.  27.  23.   5.5 24.  10.  28.  16.  19.   5.5  8.  14.\n",
            "  1.5]\n"
          ],
          "name": "stdout"
        }
      ]
    },
    {
      "cell_type": "code",
      "metadata": {
        "id": "TlBvvAwiAHBS",
        "colab_type": "code",
        "colab": {
          "base_uri": "https://localhost:8080/",
          "height": 34
        },
        "outputId": "faf69b5d-dce7-4d20-83a9-5f69ca68d372"
      },
      "source": [
        "spearmanr(rank_actual, rank_true)[0]"
      ],
      "execution_count": 46,
      "outputs": [
        {
          "output_type": "execute_result",
          "data": {
            "text/plain": [
              "0.26594493875746616"
            ]
          },
          "metadata": {
            "tags": []
          },
          "execution_count": 46
        }
      ]
    }
  ]
}